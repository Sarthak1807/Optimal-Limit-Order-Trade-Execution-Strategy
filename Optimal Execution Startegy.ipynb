{
 "cells": [
  {
   "cell_type": "markdown",
   "id": "08a3bf27",
   "metadata": {
    "slideshow": {
     "slide_type": "notes"
    }
   },
   "source": [
    "# Optimal Execution Strategy with Market Impact"
   ]
  },
  {
   "cell_type": "markdown",
   "id": "269c2c55",
   "metadata": {},
   "source": [
    "## Problem: You want to buy 1 million shares of a stock without moving the market too much. How do you split this across time (say, over 1 day)?\n",
    "\n",
    " Key Concepts: Almgren-Chriss model, transaction cost models, impact decay, stochastic control.\n",
    "\n",
    "Build in Python: Simulate limit order book, code Almgren-Chriss model, visualize impact of varying participation rate."
   ]
  },
  {
   "cell_type": "raw",
   "id": "d2daa774",
   "metadata": {},
   "source": [
    "💡 What Does “Without Moving the Market Too Much” Mean?\n",
    "This refers to minimizing market impact — which is the adverse price movement caused by your own trade.\n",
    "\n",
    "📉 Imagine this:\n",
    "You want to buy 1 million shares of a stock.\n",
    "\n",
    "If you go and buy all of it instantly (like a market order), the price will shoot up as you eat through the ask side of the order book.\n",
    "\n",
    "That means your average execution price will be much higher than the original market price.\n",
    "\n",
    "You caused the price to move against you — that’s market impact."
   ]
  },
  {
   "cell_type": "raw",
   "id": "a1da9072",
   "metadata": {},
   "source": [
    "🧠 Types of Market Impact\n",
    "Temporary Impact:\n",
    "Price moves temporarily due to your trade but reverts soon after.\n",
    "\n",
    "Think of it like a ripple.\n",
    "\n",
    "Traders try to exploit this (e.g., other HFTs fading your trade).\n",
    "\n",
    "Permanent Impact:\n",
    "Your trade reflects new information → market digests it → price stays moved.\n",
    "\n",
    "Often happens with large trades or in illiquid assets."
   ]
  },
  {
   "cell_type": "raw",
   "id": "7d9265be",
   "metadata": {},
   "source": [
    " Why Do We Care?\n",
    "In quant research, the goal is to:\n",
    "\n",
    "Minimize execution cost, i.e., the difference between:\n",
    "\n",
    "What you could have paid (arrival price)\n",
    "\n",
    "What you actually paid (after your own impact)\n",
    "\n",
    "Stay under the radar of other algos (don’t leave a footprint)\n",
    "\n",
    "Avoid slippage and adverse selection"
   ]
  },
  {
   "cell_type": "raw",
   "id": "12f8eb7f",
   "metadata": {},
   "source": [
    "📈 Objective (Mathematically)\n",
    "The goal is to optimally split your large order across time to balance:\n",
    "\n",
    "Market Impact Cost (increases with speed of trading)\n",
    "\n",
    "Risk of Price Movement (increases with time — price might move unfavorably)\n",
    "\n",
    "This tradeoff leads us to the Almgren-Chriss model."
   ]
  },
  {
   "cell_type": "raw",
   "id": "bd5a7871",
   "metadata": {},
   "source": [
    "🎯 The Scenario:\n",
    "You want to buy 1 million shares at ₹350 per share.\n",
    "\n",
    "You place a market order.\n",
    "\n",
    "🧨 What Happens?\n",
    "You hit the order book — and the market doesn't have 1 million shares neatly sitting at ₹350.\n",
    "\n",
    "The order book might look like this:\n",
    "\n",
    "java\n",
    "Copy\n",
    "Edit\n",
    "Ask Side (sellers):\n",
    "₹350 - 100,000 shares\n",
    "₹351 - 200,000 shares\n",
    "₹352 - 300,000 shares\n",
    "₹353 - 400,000 shares\n",
    "Your market order sweeps through these levels:\n",
    "\n",
    "100,000 @ ₹350\n",
    "\n",
    "200,000 @ ₹351\n",
    "\n",
    "300,000 @ ₹352\n",
    "\n",
    "400,000 @ ₹353\n",
    "\n",
    "📉 Your Average Price:\n",
    "Instead of getting all 1M shares at ₹350, you end up paying a volume-weighted average price (VWAP) of something like:\n"
   ]
  },
  {
   "cell_type": "markdown",
   "id": "ffe5227c",
   "metadata": {},
   "source": [
    "**📉 Volume-Weighted Average Price (VWAP) Calculation**\n",
    "\n",
    "We are executing a market order for **1,000,000 shares**. The order book on the *Ask Side* looks like:\n",
    "\n",
    "\\[\n",
    "\\begin{array}{lcl}\n",
    "\\text{Price} & \\text{Quantity} \\\\\n",
    "\\hline\n",
    "₹350 & 100{,}000 \\\\\n",
    "₹351 & 200{,}000 \\\\\n",
    "₹352 & 300{,}000 \\\\\n",
    "₹353 & 400{,}000 \\\\\n",
    "\\end{array}\n",
    "\\]\n",
    "\n",
    "The market order sweeps through these levels:\n",
    "$$\n",
    "\\text{VWAP} = \\frac{(100{,}000 \\times 350) + (200{,}000 \\times 351) + (300{,}000 \\times 352) + (400{,}000 \\times 353)}{1{,}000{,}000}\n",
    "$$\n",
    "\n",
    "$$\n",
    "\\text{VWAP} = \\frac{35{,}000{,}000 + 70{,}200{,}000 + 105{,}600{,}000 + 141{,}200{,}000}{1{,}000{,}000} = \\frac{352{,}000{,}000}{1{,}000{,}000} = ₹351.90\n",
    "$$\n"
   ]
  },
  {
   "cell_type": "markdown",
   "id": "ce11fd1f",
   "metadata": {},
   "source": [
    "So, you paid ₹1.9/share more than you wanted — that’s your market impact.\n",
    "\n",
    "🚀 Goal of Optimal Execution:\n",
    "Break this 1M share order into smaller trades over time, using models like Almgren-Chriss, so that:\n",
    "\n",
    "You buy slowly enough to avoid pushing the price up too hard\n",
    "\n",
    "But not so slowly that the market moves up due to other external factors (risk of price drift)"
   ]
  },
  {
   "cell_type": "markdown",
   "id": "188dec3f",
   "metadata": {},
   "source": [
    "# Phase 1: Define the order book (Ask side)"
   ]
  },
  {
   "cell_type": "code",
   "execution_count": 145,
   "id": "85528a04",
   "metadata": {},
   "outputs": [],
   "source": [
    "import matplotlib.pyplot as plt\n",
    "import numpy as np"
   ]
  },
  {
   "cell_type": "code",
   "execution_count": 146,
   "id": "c3c42e2b",
   "metadata": {},
   "outputs": [
    {
     "data": {
      "text/plain": [
       "{350: 100000, 351: 200000, 352: 300000, 353: 400000, 354: 500000}"
      ]
     },
     "execution_count": 146,
     "metadata": {},
     "output_type": "execute_result"
    }
   ],
   "source": [
    "\n",
    "order_book ={350: 100000, 351: 200000, 352: 300000, 353: 400000, 354: 500000}\n",
    "order_book\n"
   ]
  },
  {
   "cell_type": "code",
   "execution_count": 147,
   "id": "ecb1d4dd",
   "metadata": {},
   "outputs": [],
   "source": [
    "# Function to simulate a naive market buy order that sweeps the order book\n",
    "def execute_market_order(order_book,order_size):\n",
    "    executed = []\n",
    "    remaining = order_size\n",
    "    for price in sorted(order_book.keys()):\n",
    "        available = order_book[price]\n",
    "        if remaining <= 0:\n",
    "            break\n",
    "        traded = min(available, remaining)\n",
    "        executed.append((price,traded))\n",
    "        remaining -= traded\n",
    "    return executed"
   ]
  },
  {
   "cell_type": "code",
   "execution_count": 148,
   "id": "d922c21d",
   "metadata": {},
   "outputs": [
    {
     "data": {
      "text/plain": [
       "[(350, 100000), (351, 200000), (352, 300000), (353, 400000)]"
      ]
     },
     "execution_count": 148,
     "metadata": {},
     "output_type": "execute_result"
    }
   ],
   "source": [
    "# Execute a market order for 1,000,000 shares\n",
    "order_size = 1000000\n",
    "execution_result= execute_market_order(order_book,order_size)\n",
    "execution_result"
   ]
  },
  {
   "cell_type": "code",
   "execution_count": 149,
   "id": "ae0d222a",
   "metadata": {},
   "outputs": [
    {
     "data": {
      "text/plain": [
       "352.0"
      ]
     },
     "execution_count": 149,
     "metadata": {},
     "output_type": "execute_result"
    }
   ],
   "source": [
    "# Calculate Volume Weighted Average Price (VWAP)\n",
    "\n",
    "total_cost = sum(price * volume for price, volume in execution_result)\n",
    "total_volume = sum(volume for _, volume in execution_result)\n",
    "vwap = total_cost / total_volume\n",
    "vwap"
   ]
  },
  {
   "cell_type": "code",
   "execution_count": 150,
   "id": "7364a7c7",
   "metadata": {},
   "outputs": [
    {
     "name": "stdout",
     "output_type": "stream",
     "text": [
      "Executed Trades:\n",
      "Price: ₹350, Volume: 100000\n",
      "Price: ₹351, Volume: 200000\n",
      "Price: ₹352, Volume: 300000\n",
      "Price: ₹353, Volume: 400000\n",
      "\n",
      "Volume Weighted Average Price (VWAP): ₹352.00\n"
     ]
    }
   ],
   "source": [
    "print(\"Executed Trades:\")\n",
    "for price, volume in execution_result:\n",
    "   print(f\"Price: ₹{price}, Volume: {volume}\")\n",
    "print(f\"\\nVolume Weighted Average Price (VWAP): ₹{vwap:.2f}\")"
   ]
  },
  {
   "cell_type": "markdown",
   "id": "b7053cf6",
   "metadata": {},
   "source": [
    "# Phase 2: Visualization"
   ]
  },
  {
   "cell_type": "markdown",
   "id": "b752b441",
   "metadata": {},
   "source": [
    "## 🧮 Phase 2: Naive Market Order Simulation\n",
    "In this phase, we will:\n",
    "\n",
    "1. **Sweep through the order book**:  \n",
    "   We'll simulate a market order by iterating through the order book. This will represent how an order impacts market prices as it is filled.\n",
    "\n",
    "2. **Track average execution price**:  \n",
    "   The average price at which the shares are executed will be computed by taking the cumulative sum of execution prices and dividing by the number of trades.\n",
    "\n",
    "$$\n",
    "\\text{Average Execution Price} = \\frac{1}{N} \\sum_{i=1}^{N} P_i\n",
    "$$\n",
    "where \\( P_i \\) represents the price at which the \\( i \\)-th share is executed, and \\( N \\) is the total number of shares executed.\n",
    "\n",
    "3. **Compute market impact**:  \n",
    "   Market impact arises from the fact that large orders can affect the market price. This impact can be modeled as the difference between the **arrival price** and the **execution price**.\n",
    "\n",
    "$$\n",
    "\\text{Market Impact} = \\text{Execution Price} - \\text{Arrival Price}\n",
    "$$\n",
    "where the **Execution Price** is the weighted average of all the prices at which the order is filled.\n"
   ]
  },
  {
   "cell_type": "code",
   "execution_count": 151,
   "id": "2ff94b15",
   "metadata": {},
   "outputs": [
    {
     "data": {
      "text/plain": [
       "[100000, 200000, 300000, 400000, 500000]"
      ]
     },
     "execution_count": 151,
     "metadata": {},
     "output_type": "execute_result"
    }
   ],
   "source": [
    "# Prepare data for plotting\n",
    "volumes = sorted(order_book.values())\n",
    "volumes"
   ]
  },
  {
   "cell_type": "code",
   "execution_count": 152,
   "id": "b581739c",
   "metadata": {},
   "outputs": [
    {
     "data": {
      "text/plain": [
       "[100000, 200000, 300000, 400000, 0]"
      ]
     },
     "execution_count": 152,
     "metadata": {},
     "output_type": "execute_result"
    }
   ],
   "source": [
    "# Mark the executed volumes\n",
    "executed_volumes = {price: 0 for price in price_levels}\n",
    "for price, volume in execution_result:\n",
    "    executed_volumes[price] = volume\n",
    "\n",
    "executed_vols = [executed_volumes[price] for price in price_levels]\n",
    "executed_vols"
   ]
  },
  {
   "cell_type": "code",
   "execution_count": 153,
   "id": "131f76e5",
   "metadata": {},
   "outputs": [
    {
     "data": {
      "image/png": "[encoded data removed]",
      "text/plain": [
       "<Figure size 1000x600 with 1 Axes>"
      ]
     },
     "metadata": {},
     "output_type": "display_data"
    }
   ],
   "source": [
    "# Plot\n",
    "plt.figure(figsize=(10, 6))\n",
    "plt.bar(price_levels, volumes, color='lightgray', label='Order Book Depth')\n",
    "plt.bar(price_levels, executed_vols, color='royalblue', label='Executed Volume')\n",
    "plt.xlabel(\"Price (₹)\")\n",
    "plt.ylabel(\"Volume\")\n",
    "plt.title(\"Market Order Impact on Order Book\")\n",
    "plt.legend()\n",
    "plt.grid(True)\n",
    "plt.tight_layout()\n",
    "plt.show()"
   ]
  },
  {
   "cell_type": "markdown",
   "id": "9e98bf96",
   "metadata": {},
   "source": [
    "## Phase 2 - Visualize Market Impact\n",
    "We’ll now:\n",
    "\n",
    "1. **Plot the Order Book Depth**:  \n",
    "   The order book depth will be visualized, showing how many shares are available at different price levels in the limit order book. The total volume at each price level will be represented, helping us understand the liquidity at each price point.\n",
    "\n",
    "$$\n",
    "V(p) = \\text{Volume at Price Level} \\quad \\text{for} \\quad p \\in \\mathbb{R}\n",
    "$$\n",
    "where \\( p \\) represents the price levels and \\( V(p) \\) is the volume available at each price level.\n",
    "\n",
    "2. **Show the Impact Visually of Sweeping a Market Order**:  \n",
    "   We will show how a market order impacts the price levels as it is filled. As the order sweeps through the price levels, each execution moves the market price further, and the execution price will drift higher as more shares are bought at higher prices. This helps visualize the market impact.\n",
    "\n",
    "$$\n",
    "\\text{Execution Price Drift} = \\frac{\\text{Execution Price at Time } t}{\\text{Initial Price}} - 1\n",
    "$$\n",
    "where \\( t \\) represents the time steps in the order execution process, and the drift shows how the execution price evolves over time.\n",
    "\n",
    "3. **Set the Stage for Why We Need Optimal Execution**:  \n",
    "   From the visualization, we can observe that as the market order moves through the price levels, it incurs **slippage** and **market impact**. This shows the need for optimal execution strategies to minimize costs and manage risks associated with trading large volumes.\n",
    "\n",
    "### 📊 Interpretation:\n",
    "- **Gray bars**: Full depth of the ask side of the limit order book (how many shares were available at each price).\n",
    "- **Blue bars**: Volume that was actually executed from your 1 million share market order.\n",
    "\n",
    "### 💥 Insight:\n",
    "- You cleared every price level from ₹350 to ₹353.\n",
    "- The higher up the price levels you go, the more it costs you.\n",
    "  \n",
    "This is the **slippage** and **market impact** in action.\n",
    "\n",
    "\n"
   ]
  },
  {
   "cell_type": "markdown",
   "id": "e8f92216",
   "metadata": {},
   "source": [
    "# Phase 3: Almgren-Chriss Optimal Execution Model"
   ]
  },
  {
   "cell_type": "markdown",
   "id": "34f3effb",
   "metadata": {},
   "source": [
    "## 📈 Phase 3: Visualize the Problem\n",
    "To better understand the market impact, we'll plot the following:\n",
    "\n",
    "1. **Price Levels vs Volume**:  \n",
    "   A plot showing the price levels on the x-axis and the corresponding volume on the y-axis. This will help us visualize how the order book is structured at different price levels.\n",
    "$$\n",
    "V(p) = \\text{Volume at Price Level} \\quad \\text{for} \\quad p \\in \\mathbb{R}\n",
    "$$\n",
    "\n",
    "\\text{where } \\( p \\) \\text{ represents the price levels and } \\( V(p) \\) \\text{ is the volume available at each price level.}\n",
    "\n",
    "2. **Execution Price Drift**:  \n",
    "   A plot of the execution price as the order is filled. This will show how the average execution price drifts as more shares are bought at higher prices due to the market impact.\n",
    "\n",
    "$$\n",
    "\\text{Execution Price Drift} = \\frac{\\text{Execution Price at Time } t}{\\text{Initial Price}} - 1\n",
    "$$\n",
    "where \\( t \\) represents the time steps in the order execution process, and the drift shows how the execution price evolves over time.\n",
    "\n",
    "3. **Market Impact Intuition**:  \n",
    "   By visualizing the execution price drift and the order book structure, we can better understand how market impact increases as the order size grows and how price levels respond to large market orders.\n",
    "\n",
    "These plots will help us build intuition for what **market impact** really means in real trading scenarios.\n"
   ]
  },
  {
   "cell_type": "code",
   "execution_count": 154,
   "id": "83ed3e76",
   "metadata": {},
   "outputs": [],
   "source": [
    "# Parameters\n",
    "X = 1_000_000          # Total shares to sell\n",
    "T = 10                 # Total time steps (e.g., 10 minutes)\n",
    "kappa = 0.1            # Risk aversion × volatility coefficient\n",
    "time_steps = np.linspace(0, T, T + 1)\n"
   ]
  },
  {
   "cell_type": "code",
   "execution_count": 155,
   "id": "1c2ac5ef",
   "metadata": {
    "scrolled": true
   },
   "outputs": [
    {
     "name": "stdout",
     "output_type": "stream",
     "text": [
      "[126518.30915404 117776.21080472 110212.85635908 103752.54922371\n",
      "  98330.6324734   93892.84174296  90394.76213115  87801.38368148\n",
      "  86086.75099075  85233.7034387 ]\n"
     ]
    }
   ],
   "source": [
    "# Calculate optimal trajectory\n",
    "def optimal_execution_trajectory(X, T, kappa, time_steps):\n",
    "    trajectory = X * np.sinh(kappa * (T - time_steps)) / np.sinh(kappa * T)\n",
    "    return trajectory\n",
    "\n",
    "shares_remaining = optimal_execution_trajectory(X, T, kappa, time_steps)\n",
    "shares_to_trade = -np.diff(shares_remaining)  # shares sold at each step\n",
    "print(shares_to_trade)"
   ]
  },
  {
   "cell_type": "code",
   "execution_count": 156,
   "id": "fd43d1be",
   "metadata": {},
   "outputs": [
    {
     "data": {
      "image/png": "[encoded data removed]",
      "text/plain": [
       "<Figure size 1000x600 with 1 Axes>"
      ]
     },
     "metadata": {},
     "output_type": "display_data"
    }
   ],
   "source": [
    "# Plotting the optimal execution schedule\n",
    "plt.figure(figsize=(10, 6))\n",
    "plt.plot(time_steps, shares_remaining, marker='o', label='Shares Remaining')\n",
    "plt.bar(time_steps[:-1], shares_to_trade, width=0.4, color='orange', label='Shares Sold per Interval')\n",
    "plt.xlabel(\"Time Step\")\n",
    "plt.ylabel(\"Shares\")\n",
    "plt.title(\"Almgren-Chriss Optimal Execution Trajectory\")\n",
    "plt.grid(True)\n",
    "plt.legend()\n",
    "plt.tight_layout()\n",
    "plt.show()"
   ]
  },
  {
   "cell_type": "markdown",
   "id": "9616ccbd",
   "metadata": {},
   "source": [
    "### 🔢 Why are share numbers in decimals?\n",
    "\n",
    "The **Almgren-Chriss model** is a continuous-time mathematical framework for optimal execution of large orders. It provides a smooth trajectory \\( x(t) \\) that represents the **expected number of remaining shares** at any time \\( t \\), assuming continuous trading.\n",
    "\n",
    "The expression:\n",
    "\n",
    "$$\n",
    "x(t) = X \\cdot \\frac{\\sinh\\left(\\kappa(T - t)\\right)}{\\sinh(\\kappa T)}\n",
    "$$\n",
    "\n",
    "is a continuous function, and when we discretize time (e.g., \\( T = 10 \\) steps), we compute:\n",
    "\n",
    "$$\n",
    "\\Delta x(t_i) = x(t_i) - x(t_{i+1})\n",
    "$$\n",
    "\n",
    "This gives us the **shares to be sold at each interval**, which will naturally result in **decimal values**, because you're slicing a smooth function.\n",
    "\n",
    "---\n",
    "\n",
    "### 🧠 Theoretical Assumption: Fractional Shares\n",
    "\n",
    "In academic theory:\n",
    "\n",
    "- Fractional shares are **perfectly tradable**  \n",
    "- Trading is **infinitely divisible**  \n",
    "- There’s **no tick size**, **no lot constraints**, and **no rounding error**  \n",
    "\n",
    "This simplification keeps the math clean and continuous.\n",
    "\n",
    "---\n",
    "\n",
    "### 🏦 Real-world Execution: Discrete Shares\n",
    "\n",
    "In practice:\n",
    "\n",
    "- **Shares must be integers** (you can't trade 0.83 of a share on most exchanges)  \n",
    "- So brokers **round the number of shares at each step** to the nearest integer  \n",
    "\n",
    "The **rounding error** is often handled by:\n",
    "\n",
    "- Keeping a **cumulative residual** and adjusting at the **final time step**  \n",
    "- Using **integer programming** or **heuristic rules** to stay close to the optimal curve  \n",
    "\n",
    "---\n",
    "\n",
    "### 🔧 Example Rounding Strategy\n",
    "\n",
    "One practical method is to:\n",
    "\n",
    "1. **Round each trade to the nearest integer**  \n",
    "2. At the **last time step**, adjust the final trade so that the **total shares traded = \\( X \\)**\n",
    "\n",
    "Example in code:\n",
    "\n",
    "```python\n",
    "rounded = np.round(shares_to_trade)\n",
    "adjusted = rounded[:-1]\n",
    "adjusted = np.append(adjusted, X - np.sum(adjusted))  # adjust last step\n"
   ]
  },
  {
   "cell_type": "markdown",
   "id": "981879af",
   "metadata": {},
   "source": [
    "### 📊 Theoretical vs Real-world Execution Comparison\n",
    "\n",
    "| **Aspect**     | **Theoretical Model**           | **Real-world Trading**                            |\n",
    "|----------------|----------------------------------|---------------------------------------------------|\n",
    "| **Share amounts** | Can be fractional                | Must be whole numbers                             |\n",
    "| **Time**          | Continuous                       | Discrete                                          |\n",
    "| **Adjustment**    | Not needed                       | Final step compensates                           |\n",
    "| **Goal**          | Minimize cost-risk               | Approximate theoretical optimum practically       |\n"
   ]
  },
  {
   "cell_type": "markdown",
   "id": "e22dc4ab",
   "metadata": {},
   "source": [
    "#  Phase 4: Simulate Execution Cost and Risk"
   ]
  },
  {
   "cell_type": "markdown",
   "id": "37bba1a5",
   "metadata": {},
   "source": [
    "We model the trade-off:\n",
    "\n",
    "- **Trade quickly** → higher impact, lower risk  \n",
    "- **Trade slowly** → lower impact, higher risk  \n",
    "\n",
    "Then derive the optimal execution trajectory mathematically:\n",
    "\n",
    "$$\n",
    "x(t) = X \\cdot \\frac{\\sinh\\left(\\kappa (T - t)\\right)}{\\sinh(\\kappa T)}\n",
    "$$\n",
    "\n",
    "Where:  \n",
    "- \\( x(t) \\): remaining shares at time \\( t \\)  \n",
    "- \\( X \\): total shares  \n",
    "- \\( T \\): total time  \n",
    "- \\( k \\): risk aversion × volatility factor\n"
   ]
  },
  {
   "cell_type": "code",
   "execution_count": 157,
   "id": "14c8824d",
   "metadata": {},
   "outputs": [],
   "source": [
    "# Parameters\n",
    "X = 1_000_000        # Total shares\n",
    "T = 10               # Time periods\n",
    "P0 = 100             # Initial price\n",
    "sigma = 1            # Volatility per time step\n",
    "eta = 2e-6           # Market impact per share\n",
    "lam = 1e-6           # Risk aversion\n",
    "np.random.seed(42)"
   ]
  },
  {
   "cell_type": "code",
   "execution_count": 158,
   "id": "30fad023",
   "metadata": {},
   "outputs": [
    {
     "data": {
      "text/plain": [
       "0.7071067811865476"
      ]
     },
     "execution_count": 158,
     "metadata": {},
     "output_type": "execute_result"
    }
   ],
   "source": [
    "# Time grid\n",
    "time = np.arange(T)\n",
    "kappa = np.sqrt(lam * sigma**2 / eta)\n",
    "kappa"
   ]
  },
  {
   "cell_type": "code",
   "execution_count": 159,
   "id": "2a9d294d",
   "metadata": {},
   "outputs": [
    {
     "data": {
      "text/plain": [
       "array([100000., 100000., 100000., 100000., 100000., 100000., 100000.,\n",
       "       100000., 100000., 100000.])"
      ]
     },
     "execution_count": 159,
     "metadata": {},
     "output_type": "execute_result"
    }
   ],
   "source": [
    "# Strategy 1: Naive (equal split)\n",
    "naive_trades = np.full(T, X / T)\n",
    "naive_trades"
   ]
  },
  {
   "cell_type": "code",
   "execution_count": 160,
   "id": "d29cf9be",
   "metadata": {},
   "outputs": [
    {
     "data": {
      "text/plain": [
       "array([506932.41591757, 249953.6413872 , 123246.62376541,  60773.73420778,\n",
       "        29975.12266909,  14799.05566299,   7336.01484488,   3696.38518913,\n",
       "         1983.25114323,   1303.75521271])"
      ]
     },
     "execution_count": 160,
     "metadata": {},
     "output_type": "execute_result"
    }
   ],
   "source": [
    "# Strategy 2: Almgren-Chriss Optimal Execution\n",
    "x_path = X * np.sinh(kappa * (T - time)) / np.sinh(kappa * T)\n",
    "opt_trades = -np.diff(np.append(x_path, 0))\n",
    "opt_trades"
   ]
  },
  {
   "cell_type": "code",
   "execution_count": 161,
   "id": "737c5414",
   "metadata": {},
   "outputs": [],
   "source": [
    "# Simulate price path (Brownian motion)\n",
    "price_path = P0 + np.cumsum(np.random.normal(0, sigma, T))\n",
    "\n",
    "def compute_cost(trades, price_path, eta):\n",
    "    cost = 0\n",
    "    for t in range(len(trades)):\n",
    "        execution_price = price_path[t] + eta * trades[t]\n",
    "        cost += trades[t] * execution_price\n",
    "    return cost"
   ]
  },
  {
   "cell_type": "code",
   "execution_count": 162,
   "id": "7cdf643d",
   "metadata": {},
   "outputs": [],
   "source": [
    "# Compute cost and risk\n",
    "naive_cost = compute_cost(naive_trades, price_path, eta)\n",
    "opt_cost = compute_cost(opt_trades, price_path, eta)\n",
    "\n",
    "naive_risk = np.var([price_path[t] * naive_trades[t] for t in range(T)])\n",
    "opt_risk = np.var([price_path[t] * opt_trades[t] for t in range(T)])"
   ]
  },
  {
   "cell_type": "code",
   "execution_count": 163,
   "id": "819b551f",
   "metadata": {},
   "outputs": [
    {
     "name": "stdout",
     "output_type": "stream",
     "text": [
      "💰 Naive Strategy Cost: ₹102,721,264.18\n",
      "💰 Optimal Strategy Cost: ₹101,454,108.56\n",
      "📉 Naive Risk (variance): 21991461510.80\n",
      "📉 Optimal Risk (variance): 241535877743079.66\n"
     ]
    }
   ],
   "source": [
    "# Results\n",
    "print(f\"💰 Naive Strategy Cost: ₹{naive_cost:,.2f}\")\n",
    "print(f\"💰 Optimal Strategy Cost: ₹{opt_cost:,.2f}\")\n",
    "print(f\"📉 Naive Risk (variance): {naive_risk:.2f}\")\n",
    "print(f\"📉 Optimal Risk (variance): {opt_risk:.2f}\")"
   ]
  },
  {
   "cell_type": "code",
   "execution_count": 164,
   "id": "f24f1db3",
   "metadata": {},
   "outputs": [
    {
     "data": {
      "image/png": "[encoded data removed]",
      "text/plain": [
       "<Figure size 1000x600 with 1 Axes>"
      ]
     },
     "metadata": {},
     "output_type": "display_data"
    }
   ],
   "source": [
    "# Plot trades\n",
    "plt.figure(figsize=(10, 6))\n",
    "plt.bar(time - 0.2, naive_trades, width=0.4, label='Naive', color='gray')\n",
    "plt.bar(time + 0.2, opt_trades, width=0.4, label='Optimal (AC)', color='green')\n",
    "plt.plot(time, price_path, linestyle='--', marker='o', color='blue', label='Price Path')\n",
    "plt.title(\"Trade Schedules and Price Path\")\n",
    "plt.xlabel(\"Time\")\n",
    "plt.ylabel(\"Shares / Price\")\n",
    "plt.grid(True)\n",
    "plt.legend()\n",
    "plt.tight_layout()\n",
    "plt.show()"
   ]
  },
  {
   "cell_type": "markdown",
   "id": "f6c9e36b",
   "metadata": {},
   "source": [
    "# Phase 5: Monte Carlo Simulation & Cost Distribution Analysis"
   ]
  },
  {
   "cell_type": "markdown",
   "id": "d94ffdd7",
   "metadata": {},
   "source": [
    "### 🧮 Monte Carlo Simulation of Execution Costs using Almgren-Chriss Model\n",
    "\n",
    "We simulate market conditions to compare the execution costs between:\n",
    "\n",
    "- **Naive strategy**: Uniform selling over time\n",
    "- **Optimal strategy (Almgren-Chriss)**: Time-dependent optimal trajectory\n",
    "\n",
    "---\n",
    "\n",
    "### 📐 Parameters\n",
    "\n",
    "Let:\n",
    "\n",
    "- $X = 1{,}000{,}000$: Total shares to sell  \n",
    "- $T = 10$: Total trading periods  \n",
    "- $P_0 = 100$: Initial stock price  \n",
    "- $\\sigma = 1$: Daily price volatility  \n",
    "- $\\eta = 2 \\times 10^{-6}$: Temporary market impact coefficient  \n",
    "- $\\lambda = 1 \\times 10^{-6}$: Risk aversion coefficient  \n",
    "- $\\kappa = \\sqrt{\\frac{\\lambda \\sigma^2}{\\eta}}$: Risk-adjusted execution intensity\n",
    " \n",
    "\n",
    "---\n",
    "\n",
    "### 📉 Optimal Execution Schedule\n",
    "\n",
    "The optimal execution trajectory for shares remaining is:\n",
    "\n",
    "$$\n",
    "x(t) = X \\cdot \\frac{\\sinh\\left(\\kappa (T - t)\\right)}{\\sinh(\\kappa T)}\n",
    "$$\n",
    "\n",
    "Then, the shares to sell at each time step are computed as:\n",
    "\n",
    "$$\n",
    "\\Delta x(t) = x(t) - x(t+1)\n",
    "$$\n",
    "\n",
    "---\n",
    "\n",
    "### 🔁 Monte Carlo Simulation\n",
    "\n",
    "For \\( N = 1000 \\) simulations:\n",
    "\n",
    "1. Generate a **price path**:\n",
    "   $$\n",
    "   P(t) = P_0 + \\sum_{i=1}^{t} \\epsilon_i, \\quad \\epsilon_i \\sim \\mathcal{N}(0, \\sigma)\n",
    "   $$\n",
    "2. Compute **execution price** for each trade:\n",
    "   $$\n",
    "   \\text{Execution Price at time } t = P(t) + \\eta \\cdot q(t)\n",
    "   $$\n",
    "   where \\( q(t) \\) is the number of shares traded at time \\( t \\)\n",
    "3. Compute **total execution cost**:\n",
    "   $$\n",
    "   \\text{Cost} = \\sum_{t=1}^{T} q(t) \\cdot (P(t) + \\eta \\cdot q(t))\n",
    "   $$\n",
    "\n",
    "This is done for both the naive and the optimal strategies.\n",
    "\n",
    "---\n",
    "\n",
    "### 📊 Output Definitions\n",
    "\n",
    "- **Naive Strategy Cost**:  \n",
    "  Total execution cost when trading \\( X/T \\) shares uniformly at each time step.\n",
    "\n",
    "- **Optimal Strategy Cost**:  \n",
    "  Total execution cost using the Almgren-Chriss optimal trading trajectory.\n",
    "\n",
    "- **Mean Cost**:  \n",
    "  Average execution cost over 1000 simulations.\n",
    "\n",
    "- **Standard Deviation (Std Dev)**:  \n",
    "  Measures the variability or risk in the execution cost across simulations.\n",
    "\n",
    "---\n",
    "\n",
    "### ✅ Interpretation\n",
    "\n",
    "- The **Optimal strategy** is expected to yield **lower mean execution cost** due to smarter trading scheduling.\n",
    "- It also often shows **lower standard deviation**, indicating reduced risk.\n",
    "\n"
   ]
  },
  {
   "cell_type": "code",
   "execution_count": 165,
   "id": "7503e081",
   "metadata": {},
   "outputs": [],
   "source": [
    "# Parameters\n",
    "X = 1_000_000\n",
    "T = 10\n",
    "P0 = 100\n",
    "sigma = 1\n",
    "eta = 2e-6\n",
    "lam = 1e-6\n",
    "simulations = 1000\n",
    "kappa = np.sqrt(lam * sigma**2 / eta)"
   ]
  },
  {
   "cell_type": "code",
   "execution_count": 166,
   "id": "44e09b4b",
   "metadata": {},
   "outputs": [],
   "source": [
    "# Time grid\n",
    "time = np.arange(T)\n",
    "naive_trades = np.full(T, X / T)\n",
    "x_path = X * np.sinh(kappa * (T - time)) / np.sinh(kappa * T)\n",
    "opt_trades = -np.diff(np.append(x_path, 0))"
   ]
  },
  {
   "cell_type": "code",
   "execution_count": 167,
   "id": "fca521f0",
   "metadata": {},
   "outputs": [],
   "source": [
    "# Containers to store simulation results\n",
    "naive_costs = []\n",
    "opt_costs = []"
   ]
  },
  {
   "cell_type": "code",
   "execution_count": 168,
   "id": "a0115168",
   "metadata": {},
   "outputs": [],
   "source": [
    "# Function to calculate cost\n",
    "def compute_cost(trades, prices, eta):\n",
    "    cost = 0\n",
    "    for t in range(T):\n",
    "        execution_price = prices[t] + eta * trades[t]\n",
    "        cost += trades[t] * execution_price\n",
    "    return cost"
   ]
  },
  {
   "cell_type": "code",
   "execution_count": 169,
   "id": "0399bb83",
   "metadata": {},
   "outputs": [],
   "source": [
    "# Monte Carlo Simulation\n",
    "np.random.seed(42)\n",
    "for _ in range(simulations):\n",
    "    price_path = P0 + np.cumsum(np.random.normal(0, sigma, T))\n",
    "    naive_costs.append(compute_cost(naive_trades, price_path, eta))\n",
    "    opt_costs.append(compute_cost(opt_trades, price_path, eta))"
   ]
  },
  {
   "cell_type": "code",
   "execution_count": 170,
   "id": "c1d807e9",
   "metadata": {},
   "outputs": [],
   "source": [
    "# Convert to numpy arrays\n",
    "naive_costs = np.array(naive_costs)\n",
    "opt_costs = np.array(opt_costs)"
   ]
  },
  {
   "cell_type": "code",
   "execution_count": 171,
   "id": "efbc5038",
   "metadata": {},
   "outputs": [
    {
     "data": {
      "image/png": "[encoded data removed]",
      "text/plain": [
       "<Figure size 1200x600 with 1 Axes>"
      ]
     },
     "metadata": {},
     "output_type": "display_data"
    }
   ],
   "source": [
    "# Plot histograms\n",
    "plt.figure(figsize=(12, 6))\n",
    "plt.hist(naive_costs, bins=40, alpha=0.6, label='Naive Strategy', color='gray')\n",
    "plt.hist(opt_costs, bins=40, alpha=0.6, label='Optimal Strategy (AC)', color='green')\n",
    "plt.axvline(naive_costs.mean(), color='black', linestyle='--', label='Naive Mean Cost')\n",
    "plt.axvline(opt_costs.mean(), color='darkgreen', linestyle='--', label='Optimal Mean Cost')\n",
    "plt.xlabel(\"Execution Cost\")\n",
    "plt.ylabel(\"Frequency\")\n",
    "plt.title(\"Cost Distribution: Naive vs Almgren-Chriss (1000 Simulations)\")\n",
    "plt.legend()\n",
    "plt.grid(True)\n",
    "plt.tight_layout()\n",
    "plt.show()"
   ]
  },
  {
   "cell_type": "code",
   "execution_count": 172,
   "id": "e73b258b",
   "metadata": {},
   "outputs": [
    {
     "name": "stdout",
     "output_type": "stream",
     "text": [
      "📊 Summary of 1000 Simulations:\n",
      "Naive Strategy Mean Cost: ₹100,184,074.35\n",
      "Naive Strategy Std Dev: ₹1,962,910.19\n",
      "Optimal Strategy Mean Cost: ₹100,694,562.26\n",
      "Optimal Strategy Std Dev: ₹1,168,442.04\n"
     ]
    }
   ],
   "source": [
    "# Summary Stats\n",
    "print(\"📊 Summary of 1000 Simulations:\")\n",
    "print(f\"Naive Strategy Mean Cost: ₹{naive_costs.mean():,.2f}\")\n",
    "print(f\"Naive Strategy Std Dev: ₹{naive_costs.std():,.2f}\")\n",
    "print(f\"Optimal Strategy Mean Cost: ₹{opt_costs.mean():,.2f}\")\n",
    "print(f\"Optimal Strategy Std Dev: ₹{opt_costs.std():,.2f}\")"
   ]
  },
  {
   "cell_type": "markdown",
   "id": "1498eb53",
   "metadata": {},
   "source": [
    "# Phase 6: Permanent Impact"
   ]
  },
  {
   "cell_type": "code",
   "execution_count": 230,
   "id": "b8839579",
   "metadata": {},
   "outputs": [],
   "source": [
    "# Parameters\n",
    "X = 1_000_000\n",
    "T = 10\n",
    "P0 = 350\n",
    "sigma = 1\n",
    "eta = 2e-6\n",
    "gamma = 1e-6   # NEW: Permanent market impact\n",
    "lam = 1e-6\n",
    "simulations = 1000\n",
    "kappa = np.sqrt(lam * sigma**2 / eta)"
   ]
  },
  {
   "cell_type": "code",
   "execution_count": 231,
   "id": "e87092c1",
   "metadata": {},
   "outputs": [],
   "source": [
    "# Time grid\n",
    "time = np.arange(T)\n",
    "naive_trades = np.full(T, X / T)\n",
    "x_path = X * np.sinh(kappa * (T - time)) / np.sinh(kappa * T)\n",
    "opt_trades = -np.diff(np.append(x_path, 0))"
   ]
  },
  {
   "cell_type": "code",
   "execution_count": 232,
   "id": "0aad624d",
   "metadata": {},
   "outputs": [],
   "source": [
    "# Containers\n",
    "naive_costs, opt_costs = [], []"
   ]
  },
  {
   "cell_type": "code",
   "execution_count": 233,
   "id": "bdc6fa40",
   "metadata": {},
   "outputs": [],
   "source": [
    "# Cost function with permanent impact\n",
    "def simulate_price_path(trades, P0, sigma, gamma):\n",
    "    prices = [P0]\n",
    "    for q in trades:\n",
    "        shock = np.random.normal(0, sigma)\n",
    "        new_price = prices[-1] + shock + gamma * q\n",
    "        prices.append(new_price)\n",
    "    return np.array(prices[:-1])  # drop last for execution prices\n",
    "\n",
    "def compute_cost(trades, prices, eta):\n",
    "    return sum((prices[t] + eta * trades[t]) * trades[t] for t in range(T))"
   ]
  },
  {
   "cell_type": "code",
   "execution_count": 234,
   "id": "003218b0",
   "metadata": {},
   "outputs": [],
   "source": [
    "# Monte Carlo\n",
    "np.random.seed(42)\n",
    "for _ in range(simulations):\n",
    "    p_naive = simulate_price_path(naive_trades, P0, sigma, gamma)\n",
    "    p_opt = simulate_price_path(opt_trades, P0, sigma, gamma)\n",
    "    \n",
    "    naive_costs.append(compute_cost(naive_trades, p_naive, eta))\n",
    "    opt_costs.append(compute_cost(opt_trades, p_opt, eta))"
   ]
  },
  {
   "cell_type": "code",
   "execution_count": 235,
   "id": "a6621d86",
   "metadata": {},
   "outputs": [],
   "source": [
    "# Convert to arrays\n",
    "naive_costs = np.array(naive_costs)\n",
    "opt_costs = np.array(opt_costs)"
   ]
  },
  {
   "cell_type": "code",
   "execution_count": 236,
   "id": "e2487aed",
   "metadata": {},
   "outputs": [
    {
     "data": {
      "image/png": "[encoded data removed]",
      "text/plain": [
       "<Figure size 1200x600 with 1 Axes>"
      ]
     },
     "metadata": {},
     "output_type": "display_data"
    }
   ],
   "source": [
    "# Plot histograms\n",
    "plt.figure(figsize=(12, 6))\n",
    "plt.hist(naive_costs, bins=40, alpha=0.6, label='Naive', color='gray')\n",
    "plt.hist(opt_costs, bins=40, alpha=0.6, label='Optimal (AC)', color='green')\n",
    "plt.axvline(naive_costs.mean(), color='black', linestyle='--', label='Naive Mean')\n",
    "plt.axvline(opt_costs.mean(), color='darkgreen', linestyle='--', label='Optimal Mean')\n",
    "plt.xlabel(\"Execution Cost\")\n",
    "plt.ylabel(\"Frequency\")\n",
    "plt.title(\"Cost Distribution with Permanent Market Impact\")\n",
    "plt.legend()\n",
    "plt.grid(True)\n",
    "plt.tight_layout()\n",
    "plt.show()\n"
   ]
  },
  {
   "cell_type": "code",
   "execution_count": 237,
   "id": "b0fc8eb2",
   "metadata": {},
   "outputs": [
    {
     "name": "stdout",
     "output_type": "stream",
     "text": [
      "🧠 With Permanent Impact:\n",
      "Naive Mean Cost: ₹350,680,529.71 | Std Dev: ₹1,685,214.70\n",
      "Optimal Mean Cost: ₹351,020,009.81 | Std Dev: ₹592,669.61\n"
     ]
    }
   ],
   "source": [
    "# Stats\n",
    "print(\"🧠 With Permanent Impact:\")\n",
    "print(f\"Naive Mean Cost: ₹{naive_costs.mean():,.2f} | Std Dev: ₹{naive_costs.std():,.2f}\")\n",
    "print(f\"Optimal Mean Cost: ₹{opt_costs.mean():,.2f} | Std Dev: ₹{opt_costs.std():,.2f}\")"
   ]
  },
  {
   "cell_type": "markdown",
   "id": "931c3ee9",
   "metadata": {},
   "source": [
    "# Phase 7: Outcome Analysis"
   ]
  },
  {
   "cell_type": "code",
   "execution_count": 238,
   "id": "2dfcaa2f",
   "metadata": {},
   "outputs": [
    {
     "name": "stdout",
     "output_type": "stream",
     "text": [
      "🔍 Execution Quality Analysis (with Permanent Market Impact):\n",
      "\n",
      "📌 Arrival Price (P₀): ₹350.00\n",
      "\n",
      "🪙 Naive Strategy:\n",
      "  - Avg Executed Price: ₹350.6805\n",
      "  - Slippage: ₹0.6805 (0.194%)\n",
      "\n",
      "🎯 Almgren-Chriss Optimal Strategy:\n",
      "  - Avg Executed Price: ₹351.0200\n",
      "  - Slippage: ₹1.0200 (0.291%)\n",
      "\n",
      "✅ Slippage Reduction: ₹-0.3395 per share\n",
      "💰 Total Cost Saved: ₹-339,480.10\n",
      "📉 % Slippage Improvement: -49.88%\n"
     ]
    }
   ],
   "source": [
    "# Arrival price\n",
    "arrival_price = P0\n",
    "\n",
    "# Weighted Avg Price = Total cost / Total shares\n",
    "naive_exec_price = naive_costs.mean() / X\n",
    "opt_exec_price = opt_costs.mean() / X\n",
    "\n",
    "# Slippage = Executed Price - Arrival Price\n",
    "naive_slippage = naive_exec_price - arrival_price\n",
    "opt_slippage = opt_exec_price - arrival_price\n",
    "\n",
    "# % improvement\n",
    "slippage_saving = naive_slippage - opt_slippage\n",
    "percent_improvement = (slippage_saving / naive_slippage) * 100\n",
    "\n",
    "print(\"🔍 Execution Quality Analysis (with Permanent Market Impact):\\n\")\n",
    "print(f\"📌 Arrival Price (P₀): ₹{arrival_price:.2f}\")\n",
    "\n",
    "print(f\"\\n🪙 Naive Strategy:\")\n",
    "print(f\"  - Avg Executed Price: ₹{naive_exec_price:.4f}\")\n",
    "print(f\"  - Slippage: ₹{naive_slippage:.4f} ({(naive_slippage/arrival_price)*100:.3f}%)\")\n",
    "\n",
    "print(f\"\\n🎯 Almgren-Chriss Optimal Strategy:\")\n",
    "print(f\"  - Avg Executed Price: ₹{opt_exec_price:.4f}\")\n",
    "print(f\"  - Slippage: ₹{opt_slippage:.4f} ({(opt_slippage/arrival_price)*100:.3f}%)\")\n",
    "\n",
    "print(f\"\\n✅ Slippage Reduction: ₹{slippage_saving:.4f} per share\")\n",
    "print(f\"💰 Total Cost Saved: ₹{slippage_saving * X:,.2f}\")\n",
    "print(f\"📉 % Slippage Improvement: {percent_improvement:.2f}%\")\n"
   ]
  },
  {
   "cell_type": "code",
   "execution_count": 241,
   "id": "d719b08f",
   "metadata": {},
   "outputs": [],
   "source": [
    "def simulate_execution_with_costs(trade_schedule, base_price, bid_ask_spread=0.1, fee_rate=0.0005, temp_impact_coeff=1e-5):\n",
    "    execution_result = []\n",
    "    market_price = base_price\n",
    "\n",
    "    for t, shares in enumerate(trade_schedule):\n",
    "        # Add temporary impact: larger trades move the price temporarily\n",
    "        temp_impact = temp_impact_coeff * shares\n",
    "        \n",
    "        # Simulate effective execution price (crossing half the spread + temp impact)\n",
    "        effective_price = market_price + (bid_ask_spread / 2) + temp_impact\n",
    "        \n",
    "        # Calculate transaction fee\n",
    "        transaction_fee = effective_price * shares * fee_rate\n",
    "        \n",
    "        # Total cost for this trade\n",
    "        trade_cost = effective_price * shares + transaction_fee\n",
    "        \n",
    "        # Store tuple: (effective price, volume, fee, total cost)\n",
    "        execution_result.append((effective_price, shares, transaction_fee, trade_cost))\n",
    "        \n",
    "        # Update market price slightly to simulate permanent impact\n",
    "        market_price += 1e-6 * shares  # permanent impact\n",
    "\n",
    "    return execution_result\n"
   ]
  },
  {
   "cell_type": "code",
   "execution_count": 242,
   "id": "dc90ec98",
   "metadata": {},
   "outputs": [],
   "source": [
    "def analyze_execution_results(execution_result, arrival_price):\n",
    "    total_cost = sum(cost for _, _, _, cost in execution_result)\n",
    "    total_volume = sum(volume for _, volume, _, _ in execution_result)\n",
    "    total_fees = sum(fee for _, _, fee, _ in execution_result)\n",
    "\n",
    "    vwap_with_fees = total_cost / total_volume\n",
    "    slippage = vwap_with_fees - arrival_price\n",
    "\n",
    "    print(\"📊 Enhanced Execution Analysis with Fees and Spread:\")\n",
    "    print(f\"📌 Arrival Price: ₹{arrival_price:.4f}\")\n",
    "    print(f\"💸 VWAP (incl. fees/spread): ₹{vwap_with_fees:.4f}\")\n",
    "    print(f\"🧾 Total Fees Paid: ₹{total_fees:,.2f}\")\n",
    "    print(f\"📉 Total Slippage: ₹{slippage:.4f} ({(slippage/arrival_price)*100:.2f}%)\")\n",
    "    print(f\"📉 Slippage per share: ₹{slippage:.4f}\")\n"
   ]
  },
  {
   "cell_type": "code",
   "execution_count": 243,
   "id": "055fcea0",
   "metadata": {},
   "outputs": [
    {
     "name": "stdout",
     "output_type": "stream",
     "text": [
      "📊 Enhanced Execution Analysis with Fees and Spread:\n",
      "📌 Arrival Price: ₹350.0000\n",
      "💸 VWAP (incl. fees/spread): ₹353.9524\n",
      "🧾 Total Fees Paid: ₹176,887.77\n",
      "📉 Total Slippage: ₹3.9524 (1.13%)\n",
      "📉 Slippage per share: ₹3.9524\n"
     ]
    }
   ],
   "source": [
    "result_with_fees = simulate_execution_with_costs(opt_trades, P0)\n",
    "analyze_execution_results(result_with_fees, P0)\n"
   ]
  },
  {
   "cell_type": "markdown",
   "id": "33db79c4",
   "metadata": {},
   "source": [
    "## 📊 Enhanced Execution Analysis with Fees and Spread\n",
    "\n",
    "### Definitions:\n",
    "\n",
    "- **Arrival Price ($P_a$):**  \n",
    "  The price of the stock at the start of execution.  \n",
    "  $$ P_a = ₹350.0000 $$\n",
    "\n",
    "- **VWAP (Volume Weighted Average Price, incl. fees/spread):**  \n",
    "  The average price at which the shares were executed, accounting for transaction costs.  \n",
    "  $$ \\text{VWAP}_{\\text{adj}} = ₹353.9524 $$\n",
    "\n",
    "- **Total Fees Paid:**  \n",
    "  The cumulative brokerage, transaction taxes, and spread-related charges incurred during execution.  \n",
    "  $$ \\text{Fees}_{\\text{total}} = ₹176{,}887.77 $$\n",
    "\n",
    "- **Total Slippage:**  \n",
    "  The difference between the adjusted VWAP and the arrival price, reflecting the cost of executing a large order.  \n",
    "  $$ \\text{Slippage}_{\\text{total}} = \\text{VWAP}_{\\text{adj}} - P_a = ₹3.9524 \\quad (\\text{or } 1.13\\%) $$\n",
    "\n",
    "- **Slippage per Share:**  \n",
    "  The impact on execution cost for each individual share traded.  \n",
    "  $$ \\text{Slippage}_{\\text{per share}} = ₹3.9524 $$\n",
    "\n",
    "---\n",
    "\n",
    "### 📌 Conclusion and Inference:\n",
    "\n",
    "- The execution incurred a **slippage of ₹3.95 per share**, primarily due to **market impact, fees, and spread**.\n",
    "- Although the slippage constitutes **1.13% of the arrival price**, it may be considered **reasonable for large trades**, depending on the liquidity of the asset.\n",
    "- The **total fees of ₹176,887.77** significantly contributed to execution costs and should be monitored or optimized using **smart order routing or fee minimization strategies**.\n",
    "- To reduce future slippage, consider:\n",
    "  - Using **Almgren-Chriss optimal execution strategies** instead of naive slicing.\n",
    "  - **Breaking orders across venues** or **executing during higher liquidity windows**.\n",
    "  - Incorporating **real-time analytics** and **dynamic execution algorithms**.\n",
    "\n",
    "➡️ Overall, this analysis helps evaluate the efficiency of trade execution and highlights areas for **cost optimization and improved strategy design**.\n"
   ]
  },
  {
   "cell_type": "markdown",
   "id": "c1e97129",
   "metadata": {},
   "source": [
    "## ❓ Is Zero Slippage Possible via the Almgren-Chriss Strategy?\n",
    "\n",
    "### 🚫 Theoretical Answer: Not Possible\n",
    "\n",
    "The Almgren-Chriss model is **built upon the reality of slippage**. It explicitly models the trade-off between:\n",
    "\n",
    "- **Market Impact:** Costs due to influencing the price while trading\n",
    "- **Volatility Risk:** Costs from holding inventory exposed to price movements\n",
    "\n",
    "The optimal trajectory balances these two — but **cannot eliminate them**.\n",
    "\n",
    "$$\n",
    "\\text{Total Execution Cost} = \\text{Permanent Impact} + \\text{Temporary Impact} + \\text{Volatility Risk}\n",
    "$$\n",
    "\n",
    "### ⚠️ Why Zero Slippage is Unrealistic\n",
    "\n",
    "- **Market Impact Costs:**  \n",
    "  Even with perfect timing, placing a large order affects market price — the price slips from the arrival price due to your own trade.\n",
    "\n",
    "- **Temporary Impact Modeled by \\( \\eta \\):**  \n",
    "  The Almgren-Chriss formula explicitly includes a parameter \\( \\eta \\) to capture **temporary impact**. Unless \\( \\eta = 0 \\), zero slippage is mathematically **not achievable**.\n",
    "\n",
    "- **Execution Delay Increases Risk:**  \n",
    "  Spreading the trade over time reduces impact but increases **exposure to volatility**, leading to risk-driven cost.\n",
    "\n",
    "- **Liquidity is Finite:**  \n",
    "  Even in the most liquid markets, trades must cross the **bid-ask spread**, incur **fees**, and experience **latency effects**.\n",
    "\n",
    "---\n",
    "\n",
    "### ✅ Why 1.13% Slippage is Acceptable\n",
    "\n",
    "Your observed slippage:\n",
    "\n",
    "$$\n",
    "\\text{Slippage} = 1.13\\% \\approx \\frac{\\text{VWAP} - \\text{Arrival Price}}{\\text{Arrival Price}} \\times 100\n",
    "$$\n",
    "\n",
    "is quite **reasonable**, especially considering:\n",
    "- The trade involved \\( X = 1,000,000 \\) shares\n",
    "- The model accounted for - The trade involved \\( X = 1{,}000{,}000 \\) shares\n",
    "- The model accounted for **volatility (\\( \\sigma = 1 \\))** and **temporary impact (\\( \\eta = 2 \\times 10^{-6} \\))**\n",
    "- It minimized **expected execution cost** under risk aversion\n",
    "\n",
    "\n",
    "---\n",
    "\n",
    "### 🧠 Final Inference\n",
    "\n",
    "> **Zero slippage is not feasible under the Almgren-Chriss model** or any realistic execution model.  \n",
    "> **Your 1.13% slippage is an acceptable outcome**, reflecting a well-optimized execution path that balances cost and risk in a large trade scenario.\n"
   ]
  },
  {
   "cell_type": "code",
   "execution_count": null,
   "id": "7cd31a5b",
   "metadata": {},
   "outputs": [],
   "source": []
  }
 ],
 "metadata": {
  "kernelspec": {
   "display_name": "Python (Quantitative Research)",
   "language": "python",
   "name": "quant_env"
  },
  "language_info": {
   "codemirror_mode": {
    "name": "ipython",
    "version": 3
   },
   "file_extension": ".py",
   "mimetype": "text/x-python",
   "name": "python",
   "nbconvert_exporter": "python",
   "pygments_lexer": "ipython3",
   "version": "3.9.7"
  }
 },
 "nbformat": 4,
 "nbformat_minor": 5
}
